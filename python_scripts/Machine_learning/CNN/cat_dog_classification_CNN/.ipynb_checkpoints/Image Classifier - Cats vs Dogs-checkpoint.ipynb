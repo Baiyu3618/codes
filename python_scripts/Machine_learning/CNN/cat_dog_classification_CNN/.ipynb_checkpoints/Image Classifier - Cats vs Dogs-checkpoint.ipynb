{
 "cells": [
  {
   "cell_type": "markdown",
   "metadata": {},
   "source": [
    "# Image Classifier - Cats vs Dogs"
   ]
  },
  {
   "cell_type": "code",
   "execution_count": 37,
   "metadata": {},
   "outputs": [],
   "source": [
    "from keras.models import Sequential\n",
    "from keras.layers import Dense,Flatten,MaxPooling2D,Convolution2D,Conv2D,BatchNormalization, Activation, Dropout\n",
    "from matplotlib.pyplot import imread\n",
    "import os,glob, numpy as np\n",
    "import keras"
   ]
  },
  {
   "cell_type": "code",
   "execution_count": 47,
   "metadata": {},
   "outputs": [],
   "source": [
    "# reading images----------------------------------------------------------------\n",
    "traincatfiles = sorted(glob.glob1(os.getcwd()+\"/training_set/cats/\",\"*.jpg\"))\n",
    "traindogfiles = sorted(glob.glob1(os.getcwd()+\"/training_set/dogs/\",\"*.jpg\"))\n",
    "# traincatfiles = sorted(glob.glob1(os.getcwd()+\"/test_set/cats/\",\"*.jpg\"))\n",
    "# traindogfiles = sorted(glob.glob1(os.getcwd()+\"/test_set/dogs/\",\"*.jpg\"))\n",
    "\n",
    "testcatfiles = sorted(glob.glob1(os.getcwd()+\"/test_set/cats/\",\"*.jpg\"))\n",
    "testdogfiles = sorted(glob.glob1(os.getcwd()+\"/test_set/dogs/\",\"*.jpg\"))\n",
    "\n",
    "train_size = len(traincatfiles) + len(traindogfiles)\n",
    "test_size = len(testcatfiles) + len(testdogfiles)\n",
    "xtrain = np.zeros([train_size,300,300,3]); ytrain = np.zeros(train_size)\n",
    "xtest = np.zeros([test_size,300,300,3]); ytest = np.zeros(test_size)"
   ]
  },
  {
   "cell_type": "code",
   "execution_count": 50,
   "metadata": {},
   "outputs": [
    {
     "data": {
      "text/plain": [
       "10"
      ]
     },
     "execution_count": 50,
     "metadata": {},
     "output_type": "execute_result"
    }
   ],
   "source": [
    "len(testcatfiles)"
   ]
  },
  {
   "cell_type": "code",
   "execution_count": 52,
   "metadata": {},
   "outputs": [],
   "source": [
    "count = 0\n",
    "for file1,file2 in zip(traincatfiles,traindogfiles):\n",
    "    xtrain[count,:,:,:] = imread(\"training_set/cats/\"+file1)\n",
    "    ytrain[count] = 1.0         # cat 1 dog 0\n",
    "    count += 1\n",
    "\n",
    "    xtrain[count,:,:,:] = imread(\"training_set/dogs/\"+file2)\n",
    "    # ytrain.append(\"dog\")\n",
    "    count += 1\n",
    "#\n",
    "# ytrain = keras.utils.to_categorical(np.random.randint(2,size=(train_size,1)), num_classes=2)"
   ]
  },
  {
   "cell_type": "code",
   "execution_count": 56,
   "metadata": {},
   "outputs": [],
   "source": [
    "from keras.callbacks import EarlyStopping\n",
    "early_stopping = EarlyStopping(monitor='loss', patience=15)"
   ]
  },
  {
   "cell_type": "code",
   "execution_count": 76,
   "metadata": {},
   "outputs": [],
   "source": [
    "epoches = 10\n",
    "batch_size = 1\n",
    "\n",
    "model = Sequential()\n",
    "\n",
    "model.add(Conv2D(20, (5, 5), input_shape=(300,300,3)))\n",
    "model.add(Activation(\"relu\"))\n",
    "model.add(MaxPooling2D(pool_size=(2, 2)))\n",
    "\n",
    "model.add(Conv2D(40, (5, 5)))\n",
    "model.add(Activation(\"relu\"))\n",
    "model.add(MaxPooling2D(pool_size=(2, 2)))\n",
    "\n",
    "model.add(Conv2D(10, (5, 5)))\n",
    "model.add(Activation(\"relu\"))\n",
    "model.add(MaxPooling2D(pool_size=(2, 2)))\n",
    "\n",
    "model.add(Flatten())\n",
    "\n",
    "model.add(Dense(20))\n",
    "model.add(Activation(\"relu\"))\n",
    "model.add(Dropout(0.5))\n",
    "\n",
    "model.add(Dense(40))\n",
    "model.add(Activation(\"relu\"))\n",
    "model.add(Dropout(0.5))\n",
    "\n",
    "model.add(Dense(10))\n",
    "model.add(Activation(\"relu\"))\n",
    "model.add(Dropout(0.5))\n",
    "\n",
    "model.add(Dense(1))\n",
    "model.add(Activation(\"sigmoid\"))\n",
    "\n",
    "sgd = keras.optimizers.SGD(lr=0.1, decay=1e-6, momentum=0.9, nesterov=True)\n",
    "# model.compile(loss='mean_squared_error', optimizer=sgd)\n",
    "\n",
    "model.compile(loss=\"binary_crossentropy\",\n",
    "              optimizer=\"adam\",\n",
    "              metrics=[\"accuracy\"])"
   ]
  },
  {
   "cell_type": "code",
   "execution_count": 77,
   "metadata": {},
   "outputs": [
    {
     "name": "stdout",
     "output_type": "stream",
     "text": [
      "Epoch 1/10\n",
      "40/40 [==============================] - 6s 140ms/step - loss: 5.7133 - acc: 0.4500\n",
      "Epoch 2/10\n",
      "40/40 [==============================] - 3s 77ms/step - loss: 3.2820 - acc: 0.4500\n",
      "Epoch 3/10\n",
      "40/40 [==============================] - 3s 77ms/step - loss: 0.7455 - acc: 0.4500\n",
      "Epoch 4/10\n",
      "40/40 [==============================] - 3s 76ms/step - loss: 0.6945 - acc: 0.4000\n",
      "Epoch 5/10\n",
      "40/40 [==============================] - 3s 75ms/step - loss: 0.9136 - acc: 0.5000\n",
      "Epoch 6/10\n",
      "40/40 [==============================] - 3s 77ms/step - loss: 0.6964 - acc: 0.5500\n",
      "Epoch 7/10\n",
      "40/40 [==============================] - 3s 79ms/step - loss: 0.6944 - acc: 0.4000\n",
      "Epoch 8/10\n",
      "40/40 [==============================] - 3s 75ms/step - loss: 0.6932 - acc: 0.4750\n",
      "Epoch 9/10\n",
      "40/40 [==============================] - 3s 77ms/step - loss: 0.6942 - acc: 0.4500\n",
      "Epoch 10/10\n",
      "40/40 [==============================] - 3s 76ms/step - loss: 0.6967 - acc: 0.4250\n"
     ]
    }
   ],
   "source": [
    "history = model.fit(xtrain,ytrain,epochs=epoches,batch_size=batch_size,verbose=1,callbacks=[early_stopping])\n",
    "# history = model.fit_generator(xtrain,ytrain,epochs=epoches,verbose=1,callbacks=[early_stopping])"
   ]
  },
  {
   "cell_type": "code",
   "execution_count": 73,
   "metadata": {},
   "outputs": [
    {
     "name": "stdout",
     "output_type": "stream",
     "text": [
      "_________________________________________________________________\n",
      "Layer (type)                 Output Shape              Param #   \n",
      "=================================================================\n",
      "conv2d_54 (Conv2D)           (None, 296, 296, 20)      1520      \n",
      "_________________________________________________________________\n",
      "activation_133 (Activation)  (None, 296, 296, 20)      0         \n",
      "_________________________________________________________________\n",
      "max_pooling2d_54 (MaxPooling (None, 148, 148, 20)      0         \n",
      "_________________________________________________________________\n",
      "conv2d_55 (Conv2D)           (None, 144, 144, 40)      20040     \n",
      "_________________________________________________________________\n",
      "activation_134 (Activation)  (None, 144, 144, 40)      0         \n",
      "_________________________________________________________________\n",
      "max_pooling2d_55 (MaxPooling (None, 72, 72, 40)        0         \n",
      "_________________________________________________________________\n",
      "conv2d_56 (Conv2D)           (None, 68, 68, 10)        10010     \n",
      "_________________________________________________________________\n",
      "activation_135 (Activation)  (None, 68, 68, 10)        0         \n",
      "_________________________________________________________________\n",
      "max_pooling2d_56 (MaxPooling (None, 34, 34, 10)        0         \n",
      "_________________________________________________________________\n",
      "flatten_24 (Flatten)         (None, 11560)             0         \n",
      "_________________________________________________________________\n",
      "dense_80 (Dense)             (None, 20)                231220    \n",
      "_________________________________________________________________\n",
      "activation_136 (Activation)  (None, 20)                0         \n",
      "_________________________________________________________________\n",
      "dropout_53 (Dropout)         (None, 20)                0         \n",
      "_________________________________________________________________\n",
      "dense_81 (Dense)             (None, 40)                840       \n",
      "_________________________________________________________________\n",
      "activation_137 (Activation)  (None, 40)                0         \n",
      "_________________________________________________________________\n",
      "dropout_54 (Dropout)         (None, 40)                0         \n",
      "_________________________________________________________________\n",
      "dense_82 (Dense)             (None, 10)                410       \n",
      "_________________________________________________________________\n",
      "activation_138 (Activation)  (None, 10)                0         \n",
      "_________________________________________________________________\n",
      "dropout_55 (Dropout)         (None, 10)                0         \n",
      "_________________________________________________________________\n",
      "dense_83 (Dense)             (None, 1)                 11        \n",
      "_________________________________________________________________\n",
      "activation_139 (Activation)  (None, 1)                 0         \n",
      "=================================================================\n",
      "Total params: 264,051\n",
      "Trainable params: 264,051\n",
      "Non-trainable params: 0\n",
      "_________________________________________________________________\n"
     ]
    }
   ],
   "source": [
    "model.summary()"
   ]
  },
  {
   "cell_type": "code",
   "execution_count": null,
   "metadata": {},
   "outputs": [],
   "source": [
    "print(history.history)"
   ]
  },
  {
   "cell_type": "code",
   "execution_count": null,
   "metadata": {},
   "outputs": [],
   "source": [
    "import matplotlib.pyplot as plt\n",
    "%matplotlib inline"
   ]
  },
  {
   "cell_type": "code",
   "execution_count": null,
   "metadata": {},
   "outputs": [],
   "source": [
    "datarange = range(epoches)\n",
    "train_loss = model.history.history['loss']\n",
    "acc = model.history.history['acc']\n",
    "\n",
    "print ('Output Loss')\n",
    "plt.plot(datarange,train_loss)\n",
    "plt.show()\n",
    "\n",
    "print ('Output Accuracy')\n",
    "plt.plot(datarange,acc)\n",
    "plt.show()"
   ]
  },
  {
   "cell_type": "code",
   "execution_count": null,
   "metadata": {},
   "outputs": [],
   "source": [
    "sim_time =  (time.time() - start_time)\n",
    "print(\"Total computational time in min\", sim_time/60.0)"
   ]
  }
 ],
 "metadata": {
  "kernelspec": {
   "display_name": "Python 3",
   "language": "python",
   "name": "python3"
  },
  "language_info": {
   "codemirror_mode": {
    "name": "ipython",
    "version": 3
   },
   "file_extension": ".py",
   "mimetype": "text/x-python",
   "name": "python",
   "nbconvert_exporter": "python",
   "pygments_lexer": "ipython3",
   "version": "3.7.3"
  }
 },
 "nbformat": 4,
 "nbformat_minor": 2
}
